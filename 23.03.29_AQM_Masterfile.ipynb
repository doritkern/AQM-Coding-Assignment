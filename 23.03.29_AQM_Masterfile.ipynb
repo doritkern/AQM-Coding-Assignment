import pandas as pd,
import numpy as np
import sklearn as sklearn

#Import of Data
df = pd.DataFrame
df = pd.read_excel('CM_Dataset_13-22_Final_small.xlsx', sheet_name='Tabelle1')

#Creation of Training, Validation and Test Set
training_data = df.sample(frac=0.5, random_state=25) #random_state  corresponds to the seed, so that results are reproducible\n",
validation_data = df.sample(frac=0.2, random_state=25
test_data = df.sample(frac=0.3, random_state=25)

print(training_data.shape)
print(validation_data.shape)
print(test_data.shape)