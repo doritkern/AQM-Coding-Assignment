{
 "cells": [
  {
   "cell_type": "code",
   "execution_count": 2,
   "id": "7027cf37",
   "metadata": {},
   "outputs": [],
   "source": [
    "import requests\n",
    "import pandas as pd"
   ]
  },
  {
   "cell_type": "code",
   "execution_count": 3,
   "id": "eefc11f9",
   "metadata": {},
   "outputs": [
    {
     "data": {
      "text/plain": [
       "52214657"
      ]
     },
     "execution_count": 3,
     "metadata": {},
     "output_type": "execute_result"
    }
   ],
   "source": [
    "#Latest Microdata\n",
    "URL_Latest_Data = \"https://www.newyorkfed.org/medialibrary/Interactives/sce/sce/downloads/data/frbny-sce-public-microdata-latest\"\n",
    "open(\"Micro_Latest_Data.xlsx\", \"wb\").write(requests.get(URL_Latest_Data).content)\n",
    "\n",
    "#Microdata from 17 until 19\n",
    "URL_17_19 = \"https://www.newyorkfed.org/medialibrary/interactives/sce/sce/downloads/data/frbny-sce-public-microdata-complete-17-19.xlsx\"\n",
    "open(\"Micro_17_19.xlsx\", \"wb\").write(requests.get(URL_17_19).content)\n",
    "\n",
    "#Microdata from 13 to 16\n",
    "URL_13_16 = \"https://www.newyorkfed.org/medialibrary/interactives/sce/sce/downloads/data/frbny-sce-public-microdata-complete-13-16.xlsx\"\n",
    "open(\"Micro_13_16.xlsx\", \"wb\").write(requests.get(URL_13_16).content)"
   ]
  },
  {
   "cell_type": "code",
   "execution_count": 4,
   "id": "fd218a73",
   "metadata": {},
   "outputs": [],
   "source": [
    "#Put tables in a dataframe while skipping the first row (introduction line)\n",
    "df1 = pd.read_excel('Micro_Latest_Data.xlsx', sheet_name='Data', skiprows=1)\n",
    "df2 = pd.read_excel('Micro_17_19.xlsx', sheet_name='Data', skiprows=1)\n",
    "df3 = pd.read_excel('Micro_13_16.xlsx', sheet_name='Data', skiprows=1)"
   ]
  },
  {
   "cell_type": "code",
   "execution_count": 5,
   "id": "9d925a59",
   "metadata": {},
   "outputs": [],
   "source": [
    "#Check if all columns are identical (there is probably a smarter way of doing this ;-))\n",
    "result = 0\n",
    "for i in range(0,len(df1.columns)):\n",
    "    if df1.columns[i] == df2.columns[i] == df3.columns[i]:\n",
    "        result += 0\n",
    "    else:\n",
    "        result += 1\n",
    "    i += 1\n",
    "if result > 0:\n",
    "    print(\"Attention: Not all tables are identical\")"
   ]
  },
  {
   "cell_type": "code",
   "execution_count": 6,
   "id": "e4635d2e",
   "metadata": {},
   "outputs": [
    {
     "name": "stdout",
     "output_type": "stream",
     "text": [
      "         date    userid  tenure    weight   Q1   Q2    Q3  Q4new  Q5new  \\\n",
      "0      202001  70103231      12  0.818250  4.0  3.0  20.0   62.0   26.0   \n",
      "1      202001  70103252      11  2.879998  3.0  2.0   1.0   30.0    1.0   \n",
      "2      202001  70103258      12  0.549674  4.0  4.0   0.0    3.0    4.0   \n",
      "3      202001  70103285      12  0.481746  4.0  4.0  10.0   10.0   10.0   \n",
      "4      202001  70103342      11  0.481746  3.0  3.0  65.0   50.0   30.0   \n",
      "...       ...       ...     ...       ...  ...  ...   ...    ...    ...   \n",
      "56439  201612  70079341       1  0.668000  4.0  3.0   1.0   10.0    3.0   \n",
      "56440  201612  70079345       1  0.803000  4.0  3.0   1.0   25.0   10.0   \n",
      "56441  201612  70079355       1  0.539000  3.0  3.0  10.0   50.0   49.0   \n",
      "56442  201612  70079359       1  3.964000  3.0  3.0  50.0   65.0   60.0   \n",
      "56443  201612  70079366       1  0.803000  4.0  3.0  16.0   80.0   90.0   \n",
      "\n",
      "       Q6new  ...  Q48  QRA1  QRA2  survey_date  _AGE_CAT  _NUM_CAT  \\\n",
      "0       44.0  ...  5.0   NaN   NaN   2020-01-23  40 to 60      High   \n",
      "1       10.0  ...  2.0   NaN   NaN   2020-01-02  40 to 60       Low   \n",
      "2       18.0  ...  4.0   NaN   NaN   2020-01-07   Over 60      High   \n",
      "3       10.0  ...  1.0   NaN   NaN   2020-01-27  Under 40      High   \n",
      "4       50.0  ...  4.0   NaN   NaN   2020-01-21  Under 40      High   \n",
      "...      ...  ...  ...   ...   ...          ...       ...       ...   \n",
      "56439   28.0  ...  2.0   1.0   5.0   2016-12-26  40 to 60       Low   \n",
      "56440   74.0  ...  2.0   1.0   1.0   2016-12-29  40 to 60       Low   \n",
      "56441   39.0  ...  5.0   2.0   2.0   2016-12-22   Over 60      High   \n",
      "56442   70.0  ...  2.0   3.0   4.0   2016-12-22  40 to 60       Low   \n",
      "56443   30.0  ...  5.0   4.0   3.0   2016-12-15  40 to 60      High   \n",
      "\n",
      "       _REGION_CAT  _COMMUTING_ZONE      _EDU_CAT  _HH_INC_CAT  \n",
      "0             West            218.0       College    Over 100k  \n",
      "1        Northeast            203.0   High School    Under 50k  \n",
      "2            South            102.0       College  50k to 100k  \n",
      "3          Midwest            100.0       College  50k to 100k  \n",
      "4          Midwest             58.0       College  50k to 100k  \n",
      "...            ...              ...           ...          ...  \n",
      "56439      Midwest            179.0  Some College    Under 50k  \n",
      "56440      Midwest            233.0  Some College    Under 50k  \n",
      "56441        South             42.0       College    Under 50k  \n",
      "56442        South            162.0   High School    Under 50k  \n",
      "56443        South            522.0       College    Over 100k  \n",
      "\n",
      "[140480 rows x 220 columns]\n"
     ]
    }
   ],
   "source": [
    "#Combine three tables into one dataframe\n",
    "df_full = pd.concat([df1, df2, df3], axis=0)\n",
    "print(df_full)"
   ]
  },
  {
   "cell_type": "code",
   "execution_count": 7,
   "id": "e1b16c91",
   "metadata": {},
   "outputs": [],
   "source": [
    "#Save combined data frame as xlsx\n",
    "df_full.to_excel(\"Micro_Data_all.xlsx\", sheet_name='Data')"
   ]
  },
  {
   "cell_type": "code",
   "execution_count": null,
   "id": "d3077174",
   "metadata": {},
   "outputs": [],
   "source": [
    "#test"
   ]
  },
  {
   "cell_type": "code",
   "execution_count": null,
   "id": "5af6176c",
   "metadata": {},
   "outputs": [],
   "source": []
  }
 ],
 "metadata": {
  "kernelspec": {
   "display_name": "Python 3 (ipykernel)",
   "language": "python",
   "name": "python3"
  },
  "language_info": {
   "codemirror_mode": {
    "name": "ipython",
    "version": 3
   },
   "file_extension": ".py",
   "mimetype": "text/x-python",
   "name": "python",
   "nbconvert_exporter": "python",
   "pygments_lexer": "ipython3",
   "version": "3.9.13"
  }
 },
 "nbformat": 4,
 "nbformat_minor": 5
}
